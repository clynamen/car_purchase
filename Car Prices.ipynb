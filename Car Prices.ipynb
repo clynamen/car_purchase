{
 "cells": [
  {
   "cell_type": "code",
   "execution_count": 6,
   "metadata": {},
   "outputs": [
    {
     "data": {
      "text/plain": [
       "Plots.PlotlyBackend()"
      ]
     },
     "execution_count": 6,
     "metadata": {},
     "output_type": "execute_result"
    }
   ],
   "source": [
    "using CSV\n",
    "using DataFrames\n",
    "using Plots\n",
    "using Dates\n",
    "using GLM\n",
    "using Plots.PlotMeasures\n",
    "ENV[\"COLUMNS\"]=1000;\n",
    "plotly()"
   ]
  },
  {
   "cell_type": "code",
   "execution_count": 7,
   "metadata": {},
   "outputs": [],
   "source": [
    "csv_files = [\n",
    "    \"autoscout-2020-05-02.csv\",\n",
    "    \"autoscout-2020-05-12.csv\"\n",
    "    ]\n",
    "dfs = map(CSV.read, csv_files);"
   ]
  },
  {
   "cell_type": "code",
   "execution_count": null,
   "metadata": {},
   "outputs": [],
   "source": [
    "first(dfs[1], 3)"
   ]
  },
  {
   "cell_type": "code",
   "execution_count": 10,
   "metadata": {},
   "outputs": [],
   "source": [
    "dfleft = dfs[1]\n",
    "dfright = dfs[2];\n",
    "\n",
    "dfleft = dfleft[:, [:title, :uuid, :price, :url]];\n",
    "rename!(dfleft, :price => :price_2020_05_02)\n",
    "dfright = dfright[:, [:uuid, :price]];\n",
    "rename!(dfright, :price => :price_2020_05_12)\n",
    "df = join(dfleft, dfright, on = :uuid, kind = :outer);\n",
    "df = df[completecases(df), :];"
   ]
  },
  {
   "cell_type": "code",
   "execution_count": 21,
   "metadata": {},
   "outputs": [],
   "source": [
    "changed_price_df = filter(car ->  car.price_2020_05_02 != car.price_2020_05_12 , df)\n",
    "changed_price_df[:, :]\n",
    "changed_price_df.diff = changed_price_df.price_2020_05_12 - changed_price_df.price_2020_05_02;"
   ]
  },
  {
   "cell_type": "code",
   "execution_count": 22,
   "metadata": {},
   "outputs": [
    {
     "data": {
      "text/html": [
       "<table class=\"data-frame\"><thead><tr><th></th><th>title</th><th>uuid</th><th>price_2020_05_02</th><th>url</th><th>price_2020_05_12</th><th>diff</th></tr><tr><th></th><th>String⍰</th><th>String</th><th>Int64⍰</th><th>String⍰</th><th>Int64⍰</th><th>Int64</th></tr></thead><tbody><p>21 rows × 6 columns</p><tr><th>1</th><td>Fiat Panda   1.2 Dynamic GPL</td><td>9ac5a09f-24b8-db2a-e053-e250040a1dfa</td><td>3500</td><td>https://www.autoscout24.it/annunci/fiat-panda-1-2-dynamic-gpl-gpl-giallo-9ac5a09f-24b8-db2a-e053-e250040a1dfa</td><td>2500</td><td>-1000</td></tr><tr><th>2</th><td>Fiat Grande Punto   1.4 5 porte Dynamic</td><td>5e0e04a0-4f08-da32-e053-e250040a8d36</td><td>3800</td><td>https://www.autoscout24.it/annunci/fiat-grande-punto-1-4-5-porte-dynamic-benzina-grigio-5e0e04a0-4f08-da32-e053-e250040a8d36</td><td>3200</td><td>-600</td></tr><tr><th>3</th><td>Ford Fiesta   1.4 3 porte Bz.- GPL Titanium</td><td>410044a0-69a6-e936-e053-e250040ab366</td><td>4800</td><td>https://www.autoscout24.it/annunci/ford-fiesta-1-4-3-porte-bz-gpl-titanium-gpl-bianco-410044a0-69a6-e936-e053-e250040ab366</td><td>3800</td><td>-1000</td></tr><tr><th>4</th><td>Fiat Coupe   1.8 i.e. 16V</td><td>dc30959c-0cf7-643f-e053-e250040ad2b9</td><td>5000</td><td>https://www.autoscout24.it/annunci/fiat-coupe-1-8-i-e-16v-benzina-rosso-dc30959c-0cf7-643f-e053-e250040ad2b9</td><td>4200</td><td>-800</td></tr><tr><th>5</th><td>Fiat Panda   1.2 Climbing Natural Power UniPro'72 BOMBOLE 2021!</td><td>d0a60a78-a1bf-4ddc-9099-140ff1a3b1d2</td><td>5490</td><td>https://www.autoscout24.it/annunci/fiat-panda-1-2-climbing-natural-power-unipro-72-bombole-2021-metano-beige-d0a60a78-a1bf-4ddc-9099-140ff1a3b1d2</td><td>4490</td><td>-1000</td></tr><tr><th>6</th><td>smart forTwo   1000 52 kW MHD coupé pulse</td><td>cb50a0a1-f9ff-b713-e053-e350040a176e</td><td>5400</td><td>https://www.autoscout24.it/annunci/smart-fortwo-1000-52-kw-mhd-coupe-pulse-benzina-nero-cb50a0a1-f9ff-b713-e053-e350040a176e</td><td>4800</td><td>-600</td></tr><tr><th>7</th><td>Fiat Panda   1.2 Lounge</td><td>a79847a0-4819-fd41-e053-e250040a0e8b</td><td>6500</td><td>https://www.autoscout24.it/annunci/fiat-panda-1-2-lounge-benzina-bianco-a79847a0-4819-fd41-e053-e250040a0e8b</td><td>5950</td><td>-550</td></tr><tr><th>8</th><td>Alfa Romeo 33   4x4</td><td>4dc3409c-2c51-6f57-e053-e250040a6911</td><td>7000</td><td>https://www.autoscout24.it/annunci/alfa-romeo-33-4x4-benzina-grigio-4dc3409c-2c51-6f57-e053-e250040a6911</td><td>5500</td><td>-1500</td></tr><tr><th>9</th><td>Ford Fiesta   1.4 5 porte Bz.- GPL - PER SCONTO LEGGI ANNUNCIO!</td><td>483fd808-c8c8-4ef2-ad3c-25c0ffd36d0d</td><td>7699</td><td>https://www.autoscout24.it/annunci/ford-fiesta-1-4-5-porte-bz-gpl-per-sconto-leggi-annuncio-gpl-blu-azzurro-483fd808-c8c8-4ef2-ad3c-25c0ffd36d0d</td><td>7000</td><td>-699</td></tr><tr><th>10</th><td>Volkswagen Polo</td><td>2e603d9e-8e18-9551-e053-e250040a3158</td><td>8000</td><td>https://www.autoscout24.it/annunci/volkswagen-polo-gpl-bianco-2e603d9e-8e18-9551-e053-e250040a3158</td><td>7300</td><td>-700</td></tr><tr><th>11</th><td>Hyundai iX20   1.4 BENZINA 90 CV Comfort</td><td>2eb107d2-30b7-40c6-ac09-8f172fb7c3f6</td><td>8600</td><td>https://www.autoscout24.it/annunci/hyundai-ix20-1-4-benzina-90-cv-comfort-benzina-grigio-2eb107d2-30b7-40c6-ac09-8f172fb7c3f6</td><td>7500</td><td>-1100</td></tr><tr><th>12</th><td>BMW 316   COUPE'</td><td>f7539ea2-d848-4435-e053-e350040a3a95</td><td>9500</td><td>https://www.autoscout24.it/annunci/bmw-316-coupe-benzina-marrone-f7539ea2-d848-4435-e053-e350040a3a95</td><td>8800</td><td>-700</td></tr><tr><th>13</th><td>Dacia Duster   Laureate</td><td>a34a08a0-4b8f-f122-e053-e250040a3701</td><td>9600</td><td>https://www.autoscout24.it/annunci/dacia-duster-laureate-gpl-grigio-a34a08a0-4b8f-f122-e053-e250040a3701</td><td>8500</td><td>-1100</td></tr><tr><th>14</th><td>Lancia Ypsilon   1.2 69 CV 5 porte GPL Silver KM 25000!</td><td>d19b512f-5d04-49ac-8a18-415fb4946763</td><td>9900</td><td>https://www.autoscout24.it/annunci/lancia-ypsilon-1-2-69-cv-5-porte-gpl-silver-km-25000-gpl-bianco-d19b512f-5d04-49ac-8a18-415fb4946763</td><td>8900</td><td>-1000</td></tr><tr><th>15</th><td>Fiat Panda   1.2 Lounge BLUETOOTH SENSORI PARK GPL</td><td>2ec93e4b-1a5c-42a7-8e30-c10045b5d8d7</td><td>10900</td><td>https://www.autoscout24.it/annunci/fiat-panda-1-2-lounge-bluetooth-sensori-park-gpl-gpl-nero-2ec93e4b-1a5c-42a7-8e30-c10045b5d8d7</td><td>9490</td><td>-1410</td></tr><tr><th>16</th><td>Fiat Barchetta   1.8 16V Naxos</td><td>2701e19e-5f44-730f-e053-e250040a5264</td><td>10900</td><td>https://www.autoscout24.it/annunci/fiat-barchetta-1-8-16v-naxos-benzina-grigio-2701e19e-5f44-730f-e053-e250040a5264</td><td>10000</td><td>-900</td></tr><tr><th>17</th><td>Fiat 500   1.2 120°</td><td>228b2ca0-0b06-de05-e053-e250040abe3a</td><td>11500</td><td>https://www.autoscout24.it/annunci/fiat-500-1-2-120-benzina-bianco-228b2ca0-0b06-de05-e053-e250040abe3a</td><td>10000</td><td>-1500</td></tr><tr><th>18</th><td>Volvo V40   T3 Momentum</td><td>8b990836-cd35-4d0d-aedc-372de6c11a29</td><td>11900</td><td>https://www.autoscout24.it/annunci/volvo-v40-t3-momentum-benzina-nero-8b990836-cd35-4d0d-aedc-372de6c11a29</td><td>10900</td><td>-1000</td></tr><tr><th>19</th><td>Fiat 500   1.2 Mirror</td><td>ecec4a4a-8bdc-4615-bf0a-1b24ae6c9bba</td><td>12500</td><td>https://www.autoscout24.it/annunci/fiat-500-1-2-mirror-benzina-bianco-ecec4a4a-8bdc-4615-bf0a-1b24ae6c9bba</td><td>11500</td><td>-1000</td></tr><tr><th>20</th><td>Fiat 500X   1.4 MultiAir 140 CV Cross</td><td>e5d4da7c-98b5-4da9-baac-38fe4c868699</td><td>13490</td><td>https://www.autoscout24.it/annunci/fiat-500x-1-4-multiair-140-cv-cross-benzina-marrone-e5d4da7c-98b5-4da9-baac-38fe4c868699</td><td>12900</td><td>-590</td></tr><tr><th>21</th><td>Mazda MX-5   2.0L 16V High</td><td>72d33a99-b8f1-c177-e053-e250040a4fae</td><td>13750</td><td>https://www.autoscout24.it/annunci/mazda-mx-5-2-0l-16v-high-benzina-blu-azzurro-72d33a99-b8f1-c177-e053-e250040a4fae</td><td>12950</td><td>-800</td></tr></tbody></table>"
      ],
      "text/latex": [
       "\\begin{tabular}{r|cccccc}\n",
       "\t& title & uuid & price\\_2020\\_05\\_02 & url & price\\_2020\\_05\\_12 & diff\\\\\n",
       "\t\\hline\n",
       "\t& String⍰ & String & Int64⍰ & String⍰ & Int64⍰ & Int64\\\\\n",
       "\t\\hline\n",
       "\t1 & Fiat Panda   1.2 Dynamic GPL & 9ac5a09f-24b8-db2a-e053-e250040a1dfa & 3500 & https://www.autoscout24.it/annunci/fiat-panda-1-2-dynamic-gpl-gpl-giallo-9ac5a09f-24b8-db2a-e053-e250040a1dfa & 2500 & -1000 \\\\\n",
       "\t2 & Fiat Grande Punto   1.4 5 porte Dynamic & 5e0e04a0-4f08-da32-e053-e250040a8d36 & 3800 & https://www.autoscout24.it/annunci/fiat-grande-punto-1-4-5-porte-dynamic-benzina-grigio-5e0e04a0-4f08-da32-e053-e250040a8d36 & 3200 & -600 \\\\\n",
       "\t3 & Ford Fiesta   1.4 3 porte Bz.- GPL Titanium & 410044a0-69a6-e936-e053-e250040ab366 & 4800 & https://www.autoscout24.it/annunci/ford-fiesta-1-4-3-porte-bz-gpl-titanium-gpl-bianco-410044a0-69a6-e936-e053-e250040ab366 & 3800 & -1000 \\\\\n",
       "\t4 & Fiat Coupe   1.8 i.e. 16V & dc30959c-0cf7-643f-e053-e250040ad2b9 & 5000 & https://www.autoscout24.it/annunci/fiat-coupe-1-8-i-e-16v-benzina-rosso-dc30959c-0cf7-643f-e053-e250040ad2b9 & 4200 & -800 \\\\\n",
       "\t5 & Fiat Panda   1.2 Climbing Natural Power UniPro'72 BOMBOLE 2021! & d0a60a78-a1bf-4ddc-9099-140ff1a3b1d2 & 5490 & https://www.autoscout24.it/annunci/fiat-panda-1-2-climbing-natural-power-unipro-72-bombole-2021-metano-beige-d0a60a78-a1bf-4ddc-9099-140ff1a3b1d2 & 4490 & -1000 \\\\\n",
       "\t6 & smart forTwo   1000 52 kW MHD coupé pulse & cb50a0a1-f9ff-b713-e053-e350040a176e & 5400 & https://www.autoscout24.it/annunci/smart-fortwo-1000-52-kw-mhd-coupe-pulse-benzina-nero-cb50a0a1-f9ff-b713-e053-e350040a176e & 4800 & -600 \\\\\n",
       "\t7 & Fiat Panda   1.2 Lounge & a79847a0-4819-fd41-e053-e250040a0e8b & 6500 & https://www.autoscout24.it/annunci/fiat-panda-1-2-lounge-benzina-bianco-a79847a0-4819-fd41-e053-e250040a0e8b & 5950 & -550 \\\\\n",
       "\t8 & Alfa Romeo 33   4x4 & 4dc3409c-2c51-6f57-e053-e250040a6911 & 7000 & https://www.autoscout24.it/annunci/alfa-romeo-33-4x4-benzina-grigio-4dc3409c-2c51-6f57-e053-e250040a6911 & 5500 & -1500 \\\\\n",
       "\t9 & Ford Fiesta   1.4 5 porte Bz.- GPL - PER SCONTO LEGGI ANNUNCIO! & 483fd808-c8c8-4ef2-ad3c-25c0ffd36d0d & 7699 & https://www.autoscout24.it/annunci/ford-fiesta-1-4-5-porte-bz-gpl-per-sconto-leggi-annuncio-gpl-blu-azzurro-483fd808-c8c8-4ef2-ad3c-25c0ffd36d0d & 7000 & -699 \\\\\n",
       "\t10 & Volkswagen Polo & 2e603d9e-8e18-9551-e053-e250040a3158 & 8000 & https://www.autoscout24.it/annunci/volkswagen-polo-gpl-bianco-2e603d9e-8e18-9551-e053-e250040a3158 & 7300 & -700 \\\\\n",
       "\t11 & Hyundai iX20   1.4 BENZINA 90 CV Comfort & 2eb107d2-30b7-40c6-ac09-8f172fb7c3f6 & 8600 & https://www.autoscout24.it/annunci/hyundai-ix20-1-4-benzina-90-cv-comfort-benzina-grigio-2eb107d2-30b7-40c6-ac09-8f172fb7c3f6 & 7500 & -1100 \\\\\n",
       "\t12 & BMW 316   COUPE' & f7539ea2-d848-4435-e053-e350040a3a95 & 9500 & https://www.autoscout24.it/annunci/bmw-316-coupe-benzina-marrone-f7539ea2-d848-4435-e053-e350040a3a95 & 8800 & -700 \\\\\n",
       "\t13 & Dacia Duster   Laureate & a34a08a0-4b8f-f122-e053-e250040a3701 & 9600 & https://www.autoscout24.it/annunci/dacia-duster-laureate-gpl-grigio-a34a08a0-4b8f-f122-e053-e250040a3701 & 8500 & -1100 \\\\\n",
       "\t14 & Lancia Ypsilon   1.2 69 CV 5 porte GPL Silver KM 25000! & d19b512f-5d04-49ac-8a18-415fb4946763 & 9900 & https://www.autoscout24.it/annunci/lancia-ypsilon-1-2-69-cv-5-porte-gpl-silver-km-25000-gpl-bianco-d19b512f-5d04-49ac-8a18-415fb4946763 & 8900 & -1000 \\\\\n",
       "\t15 & Fiat Panda   1.2 Lounge BLUETOOTH SENSORI PARK GPL & 2ec93e4b-1a5c-42a7-8e30-c10045b5d8d7 & 10900 & https://www.autoscout24.it/annunci/fiat-panda-1-2-lounge-bluetooth-sensori-park-gpl-gpl-nero-2ec93e4b-1a5c-42a7-8e30-c10045b5d8d7 & 9490 & -1410 \\\\\n",
       "\t16 & Fiat Barchetta   1.8 16V Naxos & 2701e19e-5f44-730f-e053-e250040a5264 & 10900 & https://www.autoscout24.it/annunci/fiat-barchetta-1-8-16v-naxos-benzina-grigio-2701e19e-5f44-730f-e053-e250040a5264 & 10000 & -900 \\\\\n",
       "\t17 & Fiat 500   1.2 120° & 228b2ca0-0b06-de05-e053-e250040abe3a & 11500 & https://www.autoscout24.it/annunci/fiat-500-1-2-120-benzina-bianco-228b2ca0-0b06-de05-e053-e250040abe3a & 10000 & -1500 \\\\\n",
       "\t18 & Volvo V40   T3 Momentum & 8b990836-cd35-4d0d-aedc-372de6c11a29 & 11900 & https://www.autoscout24.it/annunci/volvo-v40-t3-momentum-benzina-nero-8b990836-cd35-4d0d-aedc-372de6c11a29 & 10900 & -1000 \\\\\n",
       "\t19 & Fiat 500   1.2 Mirror & ecec4a4a-8bdc-4615-bf0a-1b24ae6c9bba & 12500 & https://www.autoscout24.it/annunci/fiat-500-1-2-mirror-benzina-bianco-ecec4a4a-8bdc-4615-bf0a-1b24ae6c9bba & 11500 & -1000 \\\\\n",
       "\t20 & Fiat 500X   1.4 MultiAir 140 CV Cross & e5d4da7c-98b5-4da9-baac-38fe4c868699 & 13490 & https://www.autoscout24.it/annunci/fiat-500x-1-4-multiair-140-cv-cross-benzina-marrone-e5d4da7c-98b5-4da9-baac-38fe4c868699 & 12900 & -590 \\\\\n",
       "\t21 & Mazda MX-5   2.0L 16V High & 72d33a99-b8f1-c177-e053-e250040a4fae & 13750 & https://www.autoscout24.it/annunci/mazda-mx-5-2-0l-16v-high-benzina-blu-azzurro-72d33a99-b8f1-c177-e053-e250040a4fae & 12950 & -800 \\\\\n",
       "\\end{tabular}\n"
      ],
      "text/plain": [
       "21×6 DataFrame\n",
       "│ Row │ title                                                           │ uuid                                 │ price_2020_05_02 │ url                                                                                                                                               │ price_2020_05_12 │ diff  │\n",
       "│     │ \u001b[90mUnion{Missing, String}\u001b[39m                                          │ \u001b[90mString\u001b[39m                               │ \u001b[90mInt64⍰\u001b[39m           │ \u001b[90mUnion{Missing, String}\u001b[39m                                                                                                                            │ \u001b[90mInt64⍰\u001b[39m           │ \u001b[90mInt64\u001b[39m │\n",
       "├─────┼─────────────────────────────────────────────────────────────────┼──────────────────────────────────────┼──────────────────┼───────────────────────────────────────────────────────────────────────────────────────────────────────────────────────────────────────────────────┼──────────────────┼───────┤\n",
       "│ 1   │ Fiat Panda   1.2 Dynamic GPL                                    │ 9ac5a09f-24b8-db2a-e053-e250040a1dfa │ 3500             │ https://www.autoscout24.it/annunci/fiat-panda-1-2-dynamic-gpl-gpl-giallo-9ac5a09f-24b8-db2a-e053-e250040a1dfa                                     │ 2500             │ -1000 │\n",
       "│ 2   │ Fiat Grande Punto   1.4 5 porte Dynamic                         │ 5e0e04a0-4f08-da32-e053-e250040a8d36 │ 3800             │ https://www.autoscout24.it/annunci/fiat-grande-punto-1-4-5-porte-dynamic-benzina-grigio-5e0e04a0-4f08-da32-e053-e250040a8d36                      │ 3200             │ -600  │\n",
       "│ 3   │ Ford Fiesta   1.4 3 porte Bz.- GPL Titanium                     │ 410044a0-69a6-e936-e053-e250040ab366 │ 4800             │ https://www.autoscout24.it/annunci/ford-fiesta-1-4-3-porte-bz-gpl-titanium-gpl-bianco-410044a0-69a6-e936-e053-e250040ab366                        │ 3800             │ -1000 │\n",
       "│ 4   │ Fiat Coupe   1.8 i.e. 16V                                       │ dc30959c-0cf7-643f-e053-e250040ad2b9 │ 5000             │ https://www.autoscout24.it/annunci/fiat-coupe-1-8-i-e-16v-benzina-rosso-dc30959c-0cf7-643f-e053-e250040ad2b9                                      │ 4200             │ -800  │\n",
       "│ 5   │ Fiat Panda   1.2 Climbing Natural Power UniPro'72 BOMBOLE 2021! │ d0a60a78-a1bf-4ddc-9099-140ff1a3b1d2 │ 5490             │ https://www.autoscout24.it/annunci/fiat-panda-1-2-climbing-natural-power-unipro-72-bombole-2021-metano-beige-d0a60a78-a1bf-4ddc-9099-140ff1a3b1d2 │ 4490             │ -1000 │\n",
       "│ 6   │ smart forTwo   1000 52 kW MHD coupé pulse                       │ cb50a0a1-f9ff-b713-e053-e350040a176e │ 5400             │ https://www.autoscout24.it/annunci/smart-fortwo-1000-52-kw-mhd-coupe-pulse-benzina-nero-cb50a0a1-f9ff-b713-e053-e350040a176e                      │ 4800             │ -600  │\n",
       "│ 7   │ Fiat Panda   1.2 Lounge                                         │ a79847a0-4819-fd41-e053-e250040a0e8b │ 6500             │ https://www.autoscout24.it/annunci/fiat-panda-1-2-lounge-benzina-bianco-a79847a0-4819-fd41-e053-e250040a0e8b                                      │ 5950             │ -550  │\n",
       "│ 8   │ Alfa Romeo 33   4x4                                             │ 4dc3409c-2c51-6f57-e053-e250040a6911 │ 7000             │ https://www.autoscout24.it/annunci/alfa-romeo-33-4x4-benzina-grigio-4dc3409c-2c51-6f57-e053-e250040a6911                                          │ 5500             │ -1500 │\n",
       "│ 9   │ Ford Fiesta   1.4 5 porte Bz.- GPL - PER SCONTO LEGGI ANNUNCIO! │ 483fd808-c8c8-4ef2-ad3c-25c0ffd36d0d │ 7699             │ https://www.autoscout24.it/annunci/ford-fiesta-1-4-5-porte-bz-gpl-per-sconto-leggi-annuncio-gpl-blu-azzurro-483fd808-c8c8-4ef2-ad3c-25c0ffd36d0d  │ 7000             │ -699  │\n",
       "│ 10  │ Volkswagen Polo                                                 │ 2e603d9e-8e18-9551-e053-e250040a3158 │ 8000             │ https://www.autoscout24.it/annunci/volkswagen-polo-gpl-bianco-2e603d9e-8e18-9551-e053-e250040a3158                                                │ 7300             │ -700  │\n",
       "│ 11  │ Hyundai iX20   1.4 BENZINA 90 CV Comfort                        │ 2eb107d2-30b7-40c6-ac09-8f172fb7c3f6 │ 8600             │ https://www.autoscout24.it/annunci/hyundai-ix20-1-4-benzina-90-cv-comfort-benzina-grigio-2eb107d2-30b7-40c6-ac09-8f172fb7c3f6                     │ 7500             │ -1100 │\n",
       "│ 12  │ BMW 316   COUPE'                                                │ f7539ea2-d848-4435-e053-e350040a3a95 │ 9500             │ https://www.autoscout24.it/annunci/bmw-316-coupe-benzina-marrone-f7539ea2-d848-4435-e053-e350040a3a95                                             │ 8800             │ -700  │\n",
       "│ 13  │ Dacia Duster   Laureate                                         │ a34a08a0-4b8f-f122-e053-e250040a3701 │ 9600             │ https://www.autoscout24.it/annunci/dacia-duster-laureate-gpl-grigio-a34a08a0-4b8f-f122-e053-e250040a3701                                          │ 8500             │ -1100 │\n",
       "│ 14  │ Lancia Ypsilon   1.2 69 CV 5 porte GPL Silver KM 25000!         │ d19b512f-5d04-49ac-8a18-415fb4946763 │ 9900             │ https://www.autoscout24.it/annunci/lancia-ypsilon-1-2-69-cv-5-porte-gpl-silver-km-25000-gpl-bianco-d19b512f-5d04-49ac-8a18-415fb4946763           │ 8900             │ -1000 │\n",
       "│ 15  │ Fiat Panda   1.2 Lounge BLUETOOTH SENSORI PARK GPL              │ 2ec93e4b-1a5c-42a7-8e30-c10045b5d8d7 │ 10900            │ https://www.autoscout24.it/annunci/fiat-panda-1-2-lounge-bluetooth-sensori-park-gpl-gpl-nero-2ec93e4b-1a5c-42a7-8e30-c10045b5d8d7                 │ 9490             │ -1410 │\n",
       "│ 16  │ Fiat Barchetta   1.8 16V Naxos                                  │ 2701e19e-5f44-730f-e053-e250040a5264 │ 10900            │ https://www.autoscout24.it/annunci/fiat-barchetta-1-8-16v-naxos-benzina-grigio-2701e19e-5f44-730f-e053-e250040a5264                               │ 10000            │ -900  │\n",
       "│ 17  │ Fiat 500   1.2 120°                                             │ 228b2ca0-0b06-de05-e053-e250040abe3a │ 11500            │ https://www.autoscout24.it/annunci/fiat-500-1-2-120-benzina-bianco-228b2ca0-0b06-de05-e053-e250040abe3a                                           │ 10000            │ -1500 │\n",
       "│ 18  │ Volvo V40   T3 Momentum                                         │ 8b990836-cd35-4d0d-aedc-372de6c11a29 │ 11900            │ https://www.autoscout24.it/annunci/volvo-v40-t3-momentum-benzina-nero-8b990836-cd35-4d0d-aedc-372de6c11a29                                        │ 10900            │ -1000 │\n",
       "│ 19  │ Fiat 500   1.2 Mirror                                           │ ecec4a4a-8bdc-4615-bf0a-1b24ae6c9bba │ 12500            │ https://www.autoscout24.it/annunci/fiat-500-1-2-mirror-benzina-bianco-ecec4a4a-8bdc-4615-bf0a-1b24ae6c9bba                                        │ 11500            │ -1000 │\n",
       "│ 20  │ Fiat 500X   1.4 MultiAir 140 CV Cross                           │ e5d4da7c-98b5-4da9-baac-38fe4c868699 │ 13490            │ https://www.autoscout24.it/annunci/fiat-500x-1-4-multiair-140-cv-cross-benzina-marrone-e5d4da7c-98b5-4da9-baac-38fe4c868699                       │ 12900            │ -590  │\n",
       "│ 21  │ Mazda MX-5   2.0L 16V High                                      │ 72d33a99-b8f1-c177-e053-e250040a4fae │ 13750            │ https://www.autoscout24.it/annunci/mazda-mx-5-2-0l-16v-high-benzina-blu-azzurro-72d33a99-b8f1-c177-e053-e250040a4fae                              │ 12950            │ -800  │"
      ]
     },
     "execution_count": 22,
     "metadata": {},
     "output_type": "execute_result"
    }
   ],
   "source": [
    "filter(car -> car.diff < -500, changed_price_df)"
   ]
  }
 ],
 "metadata": {
  "kernelspec": {
   "display_name": "Julia 1.4.0",
   "language": "julia",
   "name": "julia-1.4"
  },
  "language_info": {
   "file_extension": ".jl",
   "mimetype": "application/julia",
   "name": "julia",
   "version": "1.4.0"
  }
 },
 "nbformat": 4,
 "nbformat_minor": 2
}
